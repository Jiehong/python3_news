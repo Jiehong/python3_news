{
 "cells": [
  {
   "cell_type": "markdown",
   "metadata": {},
   "source": [
    "## Let's review news from Python 3.5"
   ]
  },
  {
   "cell_type": "markdown",
   "metadata": {},
   "source": [
    "## `*` Iterable unpacking operator\n",
    "Allows to extract all elements from a list/iterable\n",
    "\n",
    "See https://docs.python.org/3/whatsnew/3.5.html#whatsnew-pep-448"
   ]
  },
  {
   "cell_type": "code",
   "execution_count": 1,
   "metadata": {},
   "outputs": [
    {
     "name": "stdout",
     "output_type": "stream",
     "text": [
      "[1, 2, 3, 4, 5, 6]\n",
      "1 2 3 4 5 6\n",
      "1 2 3\n"
     ]
    }
   ],
   "source": [
    "l = [1, 2, 3, 4, 5, 6]\n",
    "print(l)\n",
    "print(*l)\n",
    "a, b, c, _, _, _ = l\n",
    "print(a, b, c)"
   ]
  },
  {
   "cell_type": "markdown",
   "metadata": {},
   "source": [
    "## `**` Dictionary unpacking operator\n",
    "Same as `*`, but for dictionaries.\n",
    "\n",
    "See https://docs.python.org/3/whatsnew/3.5.html#whatsnew-pep-448"
   ]
  },
  {
   "cell_type": "code",
   "execution_count": 2,
   "metadata": {},
   "outputs": [
    {
     "name": "stdout",
     "output_type": "stream",
     "text": [
      "{'key1': 'value1', 'key2': 'value2'}\n",
      "key1 key2\n",
      "{'key1': 'value1', 'key2': 'value2'}\n",
      "{'key1': 'value1', 'key2': 'value2', 'key3': 'value3'}\n",
      "(1, 2, 3)\n",
      "{'x': 1, 'y': 3}\n",
      "{'x': 1, 'y': 3, 'key': 'value'}\n"
     ]
    }
   ],
   "source": [
    "d1 = {\"key1\": \"value1\", \"key2\": \"value2\"}\n",
    "print(d1)\n",
    "print(*d1)\n",
    "# print(**d1) : error, print cannot take so many arguments\n",
    "\n",
    "d2 = {\"key3\": \"value3\", \"key3\": \"value3\"}\n",
    "\n",
    "d11 = {**d1}\n",
    "print(d11)\n",
    "\n",
    "d12 = {**d1, **d2}\n",
    "print(d12)\n",
    "\n",
    "# print(d1 + d2): + does not know how to add dictionaries\n",
    "\n",
    "def hello(*args, **kwargs):\n",
    "    # here, * and ** does reverse-unpackaging!\n",
    "    print(args) # args: non-named arguments\n",
    "    print(kwargs) # kwargs: KeyWord arguments\n",
    "    internal = {\"key\": \"value\"}\n",
    "    new = {**kwargs, **internal}\n",
    "    print(new)\n",
    "    \n",
    "hello(1, 2, 3, x=1, y=3)"
   ]
  },
  {
   "cell_type": "markdown",
   "metadata": {},
   "source": [
    "## async/await keywords\n",
    "\n",
    "Asyncio is only suitable for IOs.\n",
    "\n",
    "`async` allows to define a function that is `await`able.\n",
    "\n",
    "`await` allows to wait for an `async` function to return.\n",
    "It allows the event_loop to pause this task, and resume it when a specific event is received.\n",
    "\n",
    "If a function bogs the CPU, the event_loop running on the same thread will also be stopped to run by the OS.\n",
    "This is why asyncio should only be used for IOs, and not CPU intensive tasks.\n",
    "\n",
    "Warning: some libraries might look like only doing IO, but might be actively blocking (ex: python's `requsets`).\n",
    "Consequence: libraries need to be fully designed with async in mind to work properly.\n",
    "\n",
    "Following example modified from https://docs.python.org/3/whatsnew/3.5.html#pep-492-coroutines-with-async-and-await-syntax."
   ]
  },
  {
   "cell_type": "code",
   "execution_count": 3,
   "metadata": {},
   "outputs": [
    {
     "name": "stdout",
     "output_type": "stream",
     "text": [
      "after\n",
      "google.co.jp >>> b'HTTP/1.1 301 Moved Permanently\\r\\n'\n",
      "amadeus.com >>> b'HTTP/1.1 301 Moved Permanently\\r\\n'\n",
      "amadeus.com >>> b'Location: https://amadeus.com/\\r\\n'\n",
      "google.de >>> b'HTTP/1.1 301 Moved Permanently\\r\\n'\n",
      "google.co.jp >>> b'Location: http://www.google.co.jp/\\r\\n'\n",
      "amadeus.com >>> b'Content-Length: 0\\r\\n'\n",
      "google.de >>> b'Location: http://www.google.de/\\r\\n'\n",
      "google.co.jp >>> b'Content-Type: text/html; charset=UTF-8\\r\\n'\n",
      "amadeus.com >>> b'Connection: close\\r\\n'\n",
      "google.de >>> b'Content-Type: text/html; charset=UTF-8\\r\\n'\n",
      "google.co.jp >>> b'Date: Sat, 24 Oct 2020 06:26:32 GMT\\r\\n'\n",
      "amadeus.com >>> b'\\r\\n'\n",
      "google.de >>> b'Date: Sat, 24 Oct 2020 06:26:32 GMT\\r\\n'\n",
      "google.co.jp >>> b'Expires: Mon, 23 Nov 2020 06:26:32 GMT\\r\\n'\n",
      "google.de >>> b'Expires: Mon, 23 Nov 2020 06:26:32 GMT\\r\\n'\n",
      "google.co.jp >>> b'Cache-Control: public, max-age=2592000\\r\\n'\n",
      "google.de >>> b'Cache-Control: public, max-age=2592000\\r\\n'\n",
      "google.co.jp >>> b'Server: gws\\r\\n'\n",
      "google.de >>> b'Server: gws\\r\\n'\n",
      "google.co.jp >>> b'Content-Length: 221\\r\\n'\n",
      "google.de >>> b'Content-Length: 218\\r\\n'\n",
      "google.co.jp >>> b'X-XSS-Protection: 0\\r\\n'\n",
      "google.de >>> b'X-XSS-Protection: 0\\r\\n'\n",
      "google.co.jp >>> b'X-Frame-Options: SAMEORIGIN\\r\\n'\n",
      "google.de >>> b'X-Frame-Options: SAMEORIGIN\\r\\n'\n",
      "google.co.jp >>> b'Connection: close\\r\\n'\n",
      "google.de >>> b'Connection: close\\r\\n'\n",
      "google.de >>> b'\\r\\n'\n",
      "google.co.jp >>> b'\\r\\n'\n",
      "google.co.jp >>> b'<HTML><HEAD><meta http-equiv=\"content-type\" content=\"text/html;charset=utf-8\">\\n'\n",
      "google.de >>> b'<HTML><HEAD><meta http-equiv=\"content-type\" content=\"text/html;charset=utf-8\">\\n'\n",
      "google.co.jp >>> b'<TITLE>301 Moved</TITLE></HEAD><BODY>\\n'\n",
      "google.de >>> b'<TITLE>301 Moved</TITLE></HEAD><BODY>\\n'\n",
      "google.co.jp >>> b'<H1>301 Moved</H1>\\n'\n",
      "google.co.jp >>> b'The document has moved\\n'\n",
      "google.de >>> b'<H1>301 Moved</H1>\\n'\n",
      "google.de >>> b'The document has moved\\n'\n",
      "google.co.jp >>> b'<A HREF=\"http://www.google.co.jp/\">here</A>.\\r\\n'\n",
      "google.de >>> b'<A HREF=\"http://www.google.de/\">here</A>.\\r\\n'\n",
      "google.co.jp >>> b'</BODY></HTML>\\r\\n'\n",
      "google.de >>> b'</BODY></HTML>\\r\\n'\n"
     ]
    },
    {
     "data": {
      "text/plain": [
       "[None, None, None]"
      ]
     },
     "execution_count": 3,
     "metadata": {},
     "output_type": "execute_result"
    }
   ],
   "source": [
    "import asyncio\n",
    "import random\n",
    "\n",
    "\n",
    "async def http_get(domain):\n",
    "    reader, writer = await asyncio.open_connection(domain, 80) # await = task is paused, will be waked up by an event\n",
    "    # Here, event was received, and function has been resumed\n",
    "    # at this point, a connection has been made, nothing has been sent\n",
    "    \n",
    "    # We now send a request\n",
    "    writer.write(b'\\r\\n'.join([\n",
    "        b'GET / HTTP/1.1',\n",
    "        b'Host: %b' % domain.encode('latin-1'),\n",
    "        b'Connection: close',\n",
    "        b'', b''\n",
    "    ]))\n",
    "    \n",
    "    # the response is not there yet.\n",
    "    # We read the response with a reader, when it comes (streamed).\n",
    "    # Paused while it is in transit\n",
    "    async for line in reader:\n",
    "        await asyncio.sleep(random.randint(3, 9) / 100.0) # increase the delay between bits of the stream\n",
    "        print(f\"{domain} >>>\", line)\n",
    "\n",
    "    writer.close()\n",
    "\n",
    "loop = asyncio.get_event_loop()\n",
    "# jupyter already is in an asyncio context (Tornado), so cannot create a new event_loop inside\n",
    "# See https://stackoverflow.com/questions/47518874/how-do-i-run-python-asyncio-code-in-a-jupyter-notebook\n",
    "t1 = loop.create_task(http_get(\"amadeus.com\"))\n",
    "t2 = loop.create_task(http_get(\"google.co.jp\"))\n",
    "t3 = loop.create_task(http_get(\"google.de\"))\n",
    "print(\"after\") # probably printed before, as the request is not there yet from the network\n",
    "\n",
    "# Explicitly wait for all tasks to but finished before running the next cell\n",
    "await asyncio.gather(t1, t2, t3)"
   ]
  },
  {
   "cell_type": "markdown",
   "metadata": {},
   "source": [
    "## Let's review news from Python 3.6"
   ]
  },
  {
   "cell_type": "markdown",
   "metadata": {},
   "source": [
    "### String literales (aka f-string)\n",
    "\n",
    "See https://www.python.org/dev/peps/pep-0498"
   ]
  },
  {
   "cell_type": "code",
   "execution_count": 4,
   "metadata": {},
   "outputs": [
    {
     "name": "stdout",
     "output_type": "stream",
     "text": [
      "Hello number 3\n"
     ]
    }
   ],
   "source": [
    "a = 3\n",
    "print(f\"Hello number {a}\")"
   ]
  },
  {
   "cell_type": "markdown",
   "metadata": {},
   "source": [
    "### underscore to separate big numbers\n",
    "See https://www.python.org/dev/peps/pep-0515"
   ]
  },
  {
   "cell_type": "code",
   "execution_count": 5,
   "metadata": {},
   "outputs": [
    {
     "name": "stdout",
     "output_type": "stream",
     "text": [
      "1000\n"
     ]
    }
   ],
   "source": [
    "print(1_000)"
   ]
  },
  {
   "cell_type": "markdown",
   "metadata": {},
   "source": [
    "### Async/await can be used with generators (yield): async generators\n",
    "First, review of a normal generator (here calculating the fibonacci numbers)"
   ]
  },
  {
   "cell_type": "code",
   "execution_count": 6,
   "metadata": {},
   "outputs": [
    {
     "name": "stdout",
     "output_type": "stream",
     "text": [
      "0\n",
      "1\n",
      "2\n",
      "3\n",
      "5\n",
      "with a loop\n",
      "0\n",
      "1\n",
      "2\n",
      "3\n",
      "5\n",
      "8\n",
      "13\n",
      "21\n",
      "34\n",
      "55\n",
      "89\n"
     ]
    }
   ],
   "source": [
    "import time\n",
    "\n",
    "def fibonacci(limit: int):\n",
    "    f0 = 0\n",
    "    f1 = 1\n",
    "    fn_1 = f1\n",
    "    fn_2 = f0\n",
    "    fn = f0\n",
    "    while fn < limit:\n",
    "        yield fn\n",
    "        fn = fn_1 + fn_2\n",
    "        fn_2 = fn_1\n",
    "        fn_1 = fn\n",
    "        time.sleep(random.randint(3, 9) / 10.0) # Simulate blocking IO\n",
    "        \n",
    "        \n",
    "        \n",
    "sequence = fibonacci(100)\n",
    "        \n",
    "print(sequence.__next__())\n",
    "print(sequence.__next__())\n",
    "print(sequence.__next__())\n",
    "print(sequence.__next__())\n",
    "print(sequence.__next__())\n",
    "\n",
    "print(\"with a loop\")\n",
    "for f in fibonacci(100):\n",
    "    print(f)"
   ]
  },
  {
   "cell_type": "markdown",
   "metadata": {},
   "source": [
    "Now, same, but asynchronously.\n",
    "\n",
    "Not that this also allows `async for` loops using those generators.\n",
    "\n",
    "See https://www.python.org/dev/peps/pep-0525."
   ]
  },
  {
   "cell_type": "code",
   "execution_count": 7,
   "metadata": {},
   "outputs": [
    {
     "name": "stdout",
     "output_type": "stream",
     "text": [
      "0\n",
      "1\n",
      "2\n",
      "3\n",
      "5\n",
      "with a loop\n",
      "0\n",
      "1\n",
      "2\n",
      "3\n",
      "5\n",
      "8\n",
      "13\n",
      "21\n",
      "34\n",
      "55\n",
      "89\n",
      "[0, 1, 2, 3, 5, 8, 13, 21, 34, 55, 89]\n"
     ]
    },
    {
     "data": {
      "text/plain": [
       "[None]"
      ]
     },
     "execution_count": 7,
     "metadata": {},
     "output_type": "execute_result"
    }
   ],
   "source": [
    "async def fibonacci(limit: int):\n",
    "    f0 = 0\n",
    "    f1 = 1\n",
    "    fn_1 = f1\n",
    "    fn_2 = f0\n",
    "    fn = f0\n",
    "    while fn < limit:\n",
    "        yield fn\n",
    "        fn = fn_1 + fn_2\n",
    "        fn_2 = fn_1\n",
    "        fn_1 = fn\n",
    "        await asyncio.sleep(random.randint(3, 9) / 10.0) # Simulate async IO\n",
    "\n",
    "        \n",
    "async def my_task():\n",
    "    sequence = fibonacci(100)\n",
    "        \n",
    "    print(await sequence.__anext__())\n",
    "    print(await sequence.__anext__())\n",
    "    print(await sequence.__anext__())\n",
    "    print(await sequence.__anext__())\n",
    "    print(await sequence.__anext__())\n",
    "\n",
    "    print(\"with a loop\")\n",
    "    async for f in fibonacci(100):\n",
    "        print(f)\n",
    "        \n",
    "    # also works in list comprehension\n",
    "    f_numbers = [n async for n in fibonacci(100)]\n",
    "    print(f_numbers)\n",
    "        \n",
    "loop = asyncio.get_event_loop()\n",
    "t1 = loop.create_task(my_task())\n",
    "await asyncio.gather(t1)"
   ]
  },
  {
   "cell_type": "markdown",
   "metadata": {},
   "source": [
    "### Know all subclasses that exist in the code\n",
    "`__init_subclass__` is called when a subclass is defined (not need to instanciate it).\n",
    "See https://www.python.org/dev/peps/pep-0487."
   ]
  },
  {
   "cell_type": "code",
   "execution_count": 8,
   "metadata": {},
   "outputs": [
    {
     "name": "stdout",
     "output_type": "stream",
     "text": [
      "[<class '__main__.Plugin1'>, <class '__main__.Plugin2'>]\n"
     ]
    }
   ],
   "source": [
    "class PluginBase:\n",
    "    subclasses = []\n",
    "\n",
    "    def __init_subclass__(cls, **kwargs): # called when the subclass is defined, not when instanciated\n",
    "        super().__init_subclass__(**kwargs)\n",
    "        cls.subclasses.append(cls)\n",
    "\n",
    "class Plugin1(PluginBase):\n",
    "    pass\n",
    "\n",
    "class Plugin2(PluginBase):\n",
    "    pass\n",
    "\n",
    "# Try to un-comment me!\n",
    "# class Plugin2(PluginBase):\n",
    "#    pass\n",
    "\n",
    "print(Plugin1.subclasses) # No need to create an instance to know about all known plugins to Python"
   ]
  },
  {
   "cell_type": "markdown",
   "metadata": {},
   "source": [
    "This allows to put constraints on inheritating classes. For example a \"closed class\":"
   ]
  },
  {
   "cell_type": "code",
   "execution_count": 9,
   "metadata": {},
   "outputs": [
    {
     "ename": "RuntimeError",
     "evalue": "Disallowed to create such an instance",
     "output_type": "error",
     "traceback": [
      "\u001b[0;31m---------------------------------------------------------------------------\u001b[0m",
      "\u001b[0;31mRuntimeError\u001b[0m                              Traceback (most recent call last)",
      "\u001b[0;32m<ipython-input-9-67a2a42c24a4>\u001b[0m in \u001b[0;36m<module>\u001b[0;34m\u001b[0m\n\u001b[1;32m     12\u001b[0m     \u001b[0;32mpass\u001b[0m\u001b[0;34m\u001b[0m\u001b[0;34m\u001b[0m\u001b[0m\n\u001b[1;32m     13\u001b[0m \u001b[0;34m\u001b[0m\u001b[0m\n\u001b[0;32m---> 14\u001b[0;31m \u001b[0;32mclass\u001b[0m \u001b[0mPlugin2\u001b[0m\u001b[0;34m(\u001b[0m\u001b[0mClosedPluginBase\u001b[0m\u001b[0;34m)\u001b[0m\u001b[0;34m:\u001b[0m \u001b[0;31m# Exception raised here\u001b[0m\u001b[0;34m\u001b[0m\u001b[0;34m\u001b[0m\u001b[0m\n\u001b[0m\u001b[1;32m     15\u001b[0m     \u001b[0;32mpass\u001b[0m\u001b[0;34m\u001b[0m\u001b[0;34m\u001b[0m\u001b[0m\n",
      "\u001b[0;32m<ipython-input-9-67a2a42c24a4>\u001b[0m in \u001b[0;36m__init_subclass__\u001b[0;34m(cls, **kwargs)\u001b[0m\n\u001b[1;32m      6\u001b[0m         \u001b[0msuper\u001b[0m\u001b[0;34m(\u001b[0m\u001b[0;34m)\u001b[0m\u001b[0;34m.\u001b[0m\u001b[0m__init_subclass__\u001b[0m\u001b[0;34m(\u001b[0m\u001b[0;34m**\u001b[0m\u001b[0mkwargs\u001b[0m\u001b[0;34m)\u001b[0m\u001b[0;34m\u001b[0m\u001b[0;34m\u001b[0m\u001b[0m\n\u001b[1;32m      7\u001b[0m         \u001b[0;32mif\u001b[0m \u001b[0mcls\u001b[0m\u001b[0;34m.\u001b[0m\u001b[0m__name__\u001b[0m \u001b[0;32mnot\u001b[0m \u001b[0;32min\u001b[0m \u001b[0;34m[\u001b[0m\u001b[0;34m\"Plugin1\"\u001b[0m\u001b[0;34m,\u001b[0m \u001b[0;34m\"Plugin4\"\u001b[0m\u001b[0;34m]\u001b[0m\u001b[0;34m:\u001b[0m\u001b[0;34m\u001b[0m\u001b[0;34m\u001b[0m\u001b[0m\n\u001b[0;32m----> 8\u001b[0;31m             \u001b[0;32mraise\u001b[0m \u001b[0mRuntimeError\u001b[0m\u001b[0;34m(\u001b[0m\u001b[0;34m\"Disallowed to create such an instance\"\u001b[0m\u001b[0;34m)\u001b[0m\u001b[0;34m\u001b[0m\u001b[0;34m\u001b[0m\u001b[0m\n\u001b[0m\u001b[1;32m      9\u001b[0m         \u001b[0mcls\u001b[0m\u001b[0;34m.\u001b[0m\u001b[0msubclasses\u001b[0m\u001b[0;34m.\u001b[0m\u001b[0mappend\u001b[0m\u001b[0;34m(\u001b[0m\u001b[0mcls\u001b[0m\u001b[0;34m)\u001b[0m\u001b[0;34m\u001b[0m\u001b[0;34m\u001b[0m\u001b[0m\n\u001b[1;32m     10\u001b[0m \u001b[0;34m\u001b[0m\u001b[0m\n",
      "\u001b[0;31mRuntimeError\u001b[0m: Disallowed to create such an instance"
     ]
    }
   ],
   "source": [
    "class ClosedPluginBase:\n",
    "    subclasses = []\n",
    "\n",
    "    def __init_subclass__(cls, **kwargs):\n",
    "        super().__init_subclass__(**kwargs)\n",
    "        if cls.__name__ not in [\"Plugin1\", \"Plugin4\"]:\n",
    "            raise RuntimeError(\"Disallowed to create such an instance\")\n",
    "        cls.subclasses.append(cls)\n",
    "\n",
    "class Plugin1(ClosedPluginBase):\n",
    "    pass\n",
    "\n",
    "class Plugin2(ClosedPluginBase): # Exception raised here\n",
    "    pass"
   ]
  },
  {
   "cell_type": "markdown",
   "metadata": {},
   "source": [
    "## Let's review news from Python 3.7"
   ]
  }
 ],
 "metadata": {
  "kernelspec": {
   "display_name": "Python 3",
   "language": "python",
   "name": "python3"
  },
  "language_info": {
   "codemirror_mode": {
    "name": "ipython",
    "version": 3
   },
   "file_extension": ".py",
   "mimetype": "text/x-python",
   "name": "python",
   "nbconvert_exporter": "python",
   "pygments_lexer": "ipython3",
   "version": "3.8.5"
  }
 },
 "nbformat": 4,
 "nbformat_minor": 4
}
