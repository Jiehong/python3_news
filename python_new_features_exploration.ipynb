{
 "cells": [
  {
   "cell_type": "markdown",
   "metadata": {},
   "source": [
    "## Let's review news from Python 3.4\n",
    "### Enum supported\n",
    "\n",
    "With 2 ways to create them.\n",
    "See https://docs.python.org/3/library/enum.html."
   ]
  },
  {
   "cell_type": "code",
   "execution_count": 1,
   "metadata": {},
   "outputs": [
    {
     "name": "stdout",
     "output_type": "stream",
     "text": [
      "Red is 1\n",
      "[<Color.Red: 1>, <Color.Green: 2>]\n"
     ]
    }
   ],
   "source": [
    "from enum import Enum\n",
    "class Color(Enum):\n",
    "    Red = 1\n",
    "    Green = 2\n",
    "\n",
    "def print_color(c: Color):\n",
    "    print(f\"{c.name} is {c.value}\")\n",
    "\n",
    "print_color(Color.Red)\n",
    "print([c for c in Color])"
   ]
  },
  {
   "cell_type": "code",
   "execution_count": 2,
   "metadata": {},
   "outputs": [
    {
     "name": "stdout",
     "output_type": "stream",
     "text": [
      "red is 1\n",
      "[<Colour.red: 1>, <Colour.green: 2>]\n"
     ]
    }
   ],
   "source": [
    "from enum import Enum\n",
    "Colour = Enum('Colour', 'red green') # only provides integers, which is fine\n",
    "\n",
    "def print_colour(c: Colour):\n",
    "    print(f\"{c.name} is {c.value}\")\n",
    "\n",
    "print_colour(Colour.red) # note: auto-completion is not working for values\n",
    "print([c for c in Colour])"
   ]
  },
  {
   "cell_type": "code",
   "execution_count": 3,
   "metadata": {},
   "outputs": [
    {
     "name": "stdout",
     "output_type": "stream",
     "text": [
      "rouge\n"
     ]
    }
   ],
   "source": [
    "# alternatively, but different\n",
    "from typing import Union\n",
    "Couleur = Union['rouge', 'vert']\n",
    "\n",
    "def affiche_couleur(c: Couleur):\n",
    "    print(c)\n",
    "    \n",
    "affiche_couleur('rouge')"
   ]
  },
  {
   "cell_type": "markdown",
   "metadata": {},
   "source": [
    "## Let's review news from Python 3.5"
   ]
  },
  {
   "cell_type": "markdown",
   "metadata": {},
   "source": [
    "## `*` Iterable unpacking operator\n",
    "Allows to extract all elements from a list/iterable\n",
    "\n",
    "See https://docs.python.org/3/whatsnew/3.5.html#whatsnew-pep-448"
   ]
  },
  {
   "cell_type": "code",
   "execution_count": 4,
   "metadata": {},
   "outputs": [
    {
     "name": "stdout",
     "output_type": "stream",
     "text": [
      "[1, 2, 3, 4, 5, 6]\n",
      "1 2 3 4 5 6\n",
      "1 2 3\n"
     ]
    }
   ],
   "source": [
    "l = [1, 2, 3, 4, 5, 6]\n",
    "print(l)\n",
    "print(*l)\n",
    "a, b, c, _, _, _ = l\n",
    "print(a, b, c)"
   ]
  },
  {
   "cell_type": "markdown",
   "metadata": {},
   "source": [
    "## `**` Dictionary unpacking operator\n",
    "Same as `*`, but for dictionaries.\n",
    "\n",
    "See https://docs.python.org/3/whatsnew/3.5.html#whatsnew-pep-448"
   ]
  },
  {
   "cell_type": "code",
   "execution_count": 5,
   "metadata": {},
   "outputs": [
    {
     "name": "stdout",
     "output_type": "stream",
     "text": [
      "{'key1': 'value1', 'key2': 'value2'}\n",
      "key1 key2\n",
      "{'key1': 'value1', 'key2': 'value2'}\n",
      "{'key1': 'value1', 'key2': 'value2', 'key3': 'value3'}\n",
      "(1, 2, 3)\n",
      "{'x': 1, 'y': 3}\n",
      "{'x': 1, 'y': 3, 'key': 'value'}\n"
     ]
    }
   ],
   "source": [
    "d1 = {\"key1\": \"value1\", \"key2\": \"value2\"}\n",
    "print(d1)\n",
    "print(*d1)\n",
    "# print(**d1) : error, print cannot take so many arguments\n",
    "\n",
    "d2 = {\"key3\": \"value3\", \"key3\": \"value3\"}\n",
    "\n",
    "d11 = {**d1}\n",
    "print(d11)\n",
    "\n",
    "d12 = {**d1, **d2}\n",
    "print(d12)\n",
    "\n",
    "# print(d1 + d2): + does not know how to add dictionaries\n",
    "\n",
    "def hello(*args, **kwargs):\n",
    "    # here, * and ** does reverse-unpackaging!\n",
    "    print(args) # args: non-named arguments\n",
    "    print(kwargs) # kwargs: KeyWord arguments\n",
    "    internal = {\"key\": \"value\"}\n",
    "    new = {**kwargs, **internal}\n",
    "    print(new)\n",
    "    \n",
    "hello(1, 2, 3, x=1, y=3)"
   ]
  },
  {
   "cell_type": "markdown",
   "metadata": {},
   "source": [
    "## async/await keywords\n",
    "\n",
    "Asyncio is only suitable for IOs.\n",
    "\n",
    "`async` allows to define a function that is `await`able.\n",
    "\n",
    "`await` allows to wait for an `async` function to return.\n",
    "It allows the event_loop to pause this task, and resume it when a specific event is received.\n",
    "\n",
    "If a function bogs the CPU, the event_loop running on the same thread will also be stopped to run by the OS.\n",
    "This is why asyncio should only be used for IOs, and not CPU intensive tasks.\n",
    "\n",
    "Warning: some libraries might look like only doing IO, but might be actively blocking (ex: python's `requsets`).\n",
    "Consequence: libraries need to be fully designed with async in mind to work properly.\n",
    "\n",
    "Following example modified from https://docs.python.org/3/whatsnew/3.5.html#pep-492-coroutines-with-async-and-await-syntax."
   ]
  },
  {
   "cell_type": "code",
   "execution_count": 6,
   "metadata": {},
   "outputs": [
    {
     "name": "stdout",
     "output_type": "stream",
     "text": [
      "after\n",
      "google.co.jp >>> b'HTTP/1.1 301 Moved Permanently\\r\\n'\n",
      "amadeus.com >>> b'HTTP/1.1 301 Moved Permanently\\r\\n'\n",
      "google.de >>> b'HTTP/1.1 301 Moved Permanently\\r\\n'\n",
      "google.co.jp >>> b'Location: http://www.google.co.jp/\\r\\n'\n",
      "amadeus.com >>> b'Location: https://amadeus.com/\\r\\n'\n",
      "google.de >>> b'Location: http://www.google.de/\\r\\n'\n",
      "google.co.jp >>> b'Content-Type: text/html; charset=UTF-8\\r\\n'\n",
      "amadeus.com >>> b'Content-Length: 0\\r\\n'\n",
      "google.de >>> b'Content-Type: text/html; charset=UTF-8\\r\\n'\n",
      "google.co.jp >>> b'Date: Fri, 30 Oct 2020 16:40:36 GMT\\r\\n'\n",
      "amadeus.com >>> b'Connection: close\\r\\n'\n",
      "google.de >>> b'Date: Fri, 30 Oct 2020 16:40:36 GMT\\r\\n'\n",
      "google.co.jp >>> b'Expires: Sun, 29 Nov 2020 16:40:36 GMT\\r\\n'\n",
      "amadeus.com >>> b'\\r\\n'\n",
      "google.de >>> b'Expires: Sun, 29 Nov 2020 16:40:36 GMT\\r\\n'\n",
      "google.co.jp >>> b'Cache-Control: public, max-age=2592000\\r\\n'\n",
      "google.de >>> b'Cache-Control: public, max-age=2592000\\r\\n'\n",
      "google.co.jp >>> b'Server: gws\\r\\n'\n",
      "google.de >>> b'Server: gws\\r\\n'\n",
      "google.co.jp >>> b'Content-Length: 221\\r\\n'\n",
      "google.de >>> b'Content-Length: 218\\r\\n'\n",
      "google.co.jp >>> b'X-XSS-Protection: 0\\r\\n'\n",
      "google.de >>> b'X-XSS-Protection: 0\\r\\n'\n",
      "google.co.jp >>> b'X-Frame-Options: SAMEORIGIN\\r\\n'\n",
      "google.de >>> b'X-Frame-Options: SAMEORIGIN\\r\\n'\n",
      "google.de >>> b'Connection: close\\r\\n'\n",
      "google.co.jp >>> b'Connection: close\\r\\n'\n",
      "google.de >>> b'\\r\\n'\n",
      "google.co.jp >>> b'\\r\\n'\n",
      "google.de >>> b'<HTML><HEAD><meta http-equiv=\"content-type\" content=\"text/html;charset=utf-8\">\\n'\n",
      "google.co.jp >>> b'<HTML><HEAD><meta http-equiv=\"content-type\" content=\"text/html;charset=utf-8\">\\n'\n",
      "google.de >>> b'<TITLE>301 Moved</TITLE></HEAD><BODY>\\n'\n",
      "google.co.jp >>> b'<TITLE>301 Moved</TITLE></HEAD><BODY>\\n'\n",
      "google.co.jp >>> b'<H1>301 Moved</H1>\\n'\n",
      "google.de >>> b'<H1>301 Moved</H1>\\n'\n",
      "google.co.jp >>> b'The document has moved\\n'\n",
      "google.de >>> b'The document has moved\\n'\n",
      "google.co.jp >>> b'<A HREF=\"http://www.google.co.jp/\">here</A>.\\r\\n'\n",
      "google.de >>> b'<A HREF=\"http://www.google.de/\">here</A>.\\r\\n'\n",
      "google.co.jp >>> b'</BODY></HTML>\\r\\n'\n",
      "google.de >>> b'</BODY></HTML>\\r\\n'\n"
     ]
    },
    {
     "data": {
      "text/plain": [
       "[None, None, None]"
      ]
     },
     "execution_count": 6,
     "metadata": {},
     "output_type": "execute_result"
    }
   ],
   "source": [
    "import asyncio\n",
    "import random\n",
    "\n",
    "\n",
    "async def http_get(domain):\n",
    "    reader, writer = await asyncio.open_connection(domain, 80) # await = task is paused, will be waked up by an event\n",
    "    # Here, event was received, and function has been resumed\n",
    "    # at this point, a connection has been made, nothing has been sent\n",
    "    \n",
    "    # We now send a request\n",
    "    writer.write(b'\\r\\n'.join([\n",
    "        b'GET / HTTP/1.1',\n",
    "        b'Host: %b' % domain.encode('latin-1'),\n",
    "        b'Connection: close',\n",
    "        b'', b''\n",
    "    ]))\n",
    "    \n",
    "    # the response is not there yet.\n",
    "    # We read the response with a reader, when it comes (streamed).\n",
    "    # Paused while it is in transit\n",
    "    async for line in reader:\n",
    "        await asyncio.sleep(random.randint(3, 9) / 100.0) # increase the delay between bits of the stream\n",
    "        print(f\"{domain} >>>\", line)\n",
    "\n",
    "    writer.close()\n",
    "\n",
    "loop = asyncio.get_event_loop()\n",
    "# jupyter already is in an asyncio context (Tornado), so cannot create a new event_loop inside\n",
    "# See https://stackoverflow.com/questions/47518874/how-do-i-run-python-asyncio-code-in-a-jupyter-notebook\n",
    "t1 = loop.create_task(http_get(\"amadeus.com\"))\n",
    "t2 = loop.create_task(http_get(\"google.co.jp\"))\n",
    "t3 = loop.create_task(http_get(\"google.de\"))\n",
    "print(\"after\") # probably printed before, as the request is not there yet from the network\n",
    "\n",
    "# Explicitly wait for all tasks to but finished before running the next cell\n",
    "await asyncio.gather(t1, t2, t3)"
   ]
  },
  {
   "cell_type": "markdown",
   "metadata": {},
   "source": [
    "## Let's review news from Python 3.6"
   ]
  },
  {
   "cell_type": "markdown",
   "metadata": {},
   "source": [
    "### String literales (aka f-string)\n",
    "\n",
    "See https://www.python.org/dev/peps/pep-0498"
   ]
  },
  {
   "cell_type": "code",
   "execution_count": 7,
   "metadata": {},
   "outputs": [
    {
     "name": "stdout",
     "output_type": "stream",
     "text": [
      "Hello number 3\n"
     ]
    }
   ],
   "source": [
    "a = 3\n",
    "print(f\"Hello number {a}\")"
   ]
  },
  {
   "cell_type": "markdown",
   "metadata": {},
   "source": [
    "### underscore to separate big numbers\n",
    "See https://www.python.org/dev/peps/pep-0515"
   ]
  },
  {
   "cell_type": "code",
   "execution_count": 8,
   "metadata": {},
   "outputs": [
    {
     "name": "stdout",
     "output_type": "stream",
     "text": [
      "1000\n"
     ]
    }
   ],
   "source": [
    "print(1_000)"
   ]
  },
  {
   "cell_type": "markdown",
   "metadata": {},
   "source": [
    "### Async/await can be used with generators (yield): async generators\n",
    "First, review of a normal generator (here calculating the fibonacci numbers)"
   ]
  },
  {
   "cell_type": "code",
   "execution_count": 9,
   "metadata": {},
   "outputs": [
    {
     "name": "stdout",
     "output_type": "stream",
     "text": [
      "0\n",
      "1\n",
      "2\n",
      "3\n",
      "5\n",
      "with a loop\n",
      "0\n",
      "1\n",
      "2\n",
      "3\n",
      "5\n",
      "8\n",
      "13\n",
      "21\n",
      "34\n",
      "55\n",
      "89\n"
     ]
    }
   ],
   "source": [
    "import time\n",
    "\n",
    "def fibonacci(limit: int):\n",
    "    f0 = 0\n",
    "    f1 = 1\n",
    "    fn_1 = f1\n",
    "    fn_2 = f0\n",
    "    fn = f0\n",
    "    while fn < limit:\n",
    "        yield fn\n",
    "        fn = fn_1 + fn_2\n",
    "        fn_2 = fn_1\n",
    "        fn_1 = fn\n",
    "        time.sleep(random.randint(3, 9) / 10.0) # Simulate blocking IO\n",
    "        \n",
    "        \n",
    "        \n",
    "sequence = fibonacci(100)\n",
    "        \n",
    "print(sequence.__next__())\n",
    "print(sequence.__next__())\n",
    "print(sequence.__next__())\n",
    "print(sequence.__next__())\n",
    "print(sequence.__next__())\n",
    "\n",
    "print(\"with a loop\")\n",
    "for f in fibonacci(100):\n",
    "    print(f)"
   ]
  },
  {
   "cell_type": "markdown",
   "metadata": {},
   "source": [
    "Now, same, but asynchronously.\n",
    "\n",
    "Not that this also allows `async for` loops using those generators.\n",
    "\n",
    "See https://www.python.org/dev/peps/pep-0525."
   ]
  },
  {
   "cell_type": "code",
   "execution_count": 10,
   "metadata": {},
   "outputs": [
    {
     "name": "stdout",
     "output_type": "stream",
     "text": [
      "0\n",
      "1\n",
      "2\n",
      "3\n",
      "5\n",
      "with a loop\n",
      "0\n",
      "1\n",
      "2\n",
      "3\n",
      "5\n",
      "8\n",
      "13\n",
      "21\n",
      "34\n",
      "55\n",
      "89\n",
      "[0, 1, 2, 3, 5, 8, 13, 21, 34, 55, 89]\n"
     ]
    },
    {
     "data": {
      "text/plain": [
       "[None]"
      ]
     },
     "execution_count": 10,
     "metadata": {},
     "output_type": "execute_result"
    }
   ],
   "source": [
    "async def fibonacci(limit: int):\n",
    "    f0 = 0\n",
    "    f1 = 1\n",
    "    fn_1 = f1\n",
    "    fn_2 = f0\n",
    "    fn = f0\n",
    "    while fn < limit:\n",
    "        yield fn\n",
    "        fn = fn_1 + fn_2\n",
    "        fn_2 = fn_1\n",
    "        fn_1 = fn\n",
    "        await asyncio.sleep(random.randint(3, 9) / 10.0) # Simulate async IO\n",
    "\n",
    "        \n",
    "async def my_task():\n",
    "    sequence = fibonacci(100)\n",
    "        \n",
    "    print(await sequence.__anext__())\n",
    "    print(await sequence.__anext__())\n",
    "    print(await sequence.__anext__())\n",
    "    print(await sequence.__anext__())\n",
    "    print(await sequence.__anext__())\n",
    "\n",
    "    print(\"with a loop\")\n",
    "    async for f in fibonacci(100):\n",
    "        print(f)\n",
    "        \n",
    "    # also works in list comprehension\n",
    "    f_numbers = [n async for n in fibonacci(100)]\n",
    "    print(f_numbers)\n",
    "        \n",
    "loop = asyncio.get_event_loop()\n",
    "t1 = loop.create_task(my_task())\n",
    "await asyncio.gather(t1)"
   ]
  },
  {
   "cell_type": "markdown",
   "metadata": {},
   "source": [
    "### Know all subclasses that exist in the code\n",
    "`__init_subclass__` is called when a subclass is defined (not need to instanciate it).\n",
    "See https://www.python.org/dev/peps/pep-0487."
   ]
  },
  {
   "cell_type": "code",
   "execution_count": 11,
   "metadata": {},
   "outputs": [
    {
     "name": "stdout",
     "output_type": "stream",
     "text": [
      "[<class '__main__.Plugin1'>, <class '__main__.Plugin2'>]\n"
     ]
    }
   ],
   "source": [
    "class PluginBase:\n",
    "    subclasses = []\n",
    "\n",
    "    def __init_subclass__(cls, **kwargs): # called when the subclass is defined, not when instanciated\n",
    "        super().__init_subclass__(**kwargs)\n",
    "        cls.subclasses.append(cls)\n",
    "\n",
    "class Plugin1(PluginBase):\n",
    "    pass\n",
    "\n",
    "class Plugin2(PluginBase):\n",
    "    pass\n",
    "\n",
    "# Try to un-comment me!\n",
    "# class Plugin2(PluginBase):\n",
    "#    pass\n",
    "\n",
    "print(Plugin1.subclasses) # No need to create an instance to know about all known plugins to Python"
   ]
  },
  {
   "cell_type": "markdown",
   "metadata": {},
   "source": [
    "This allows to put constraints on inheritating classes. For example a \"closed class\":"
   ]
  },
  {
   "cell_type": "code",
   "execution_count": 12,
   "metadata": {},
   "outputs": [
    {
     "ename": "RuntimeError",
     "evalue": "Disallowed to create such an instance",
     "output_type": "error",
     "traceback": [
      "\u001b[0;31m---------------------------------------------------------------------------\u001b[0m",
      "\u001b[0;31mRuntimeError\u001b[0m                              Traceback (most recent call last)",
      "\u001b[0;32m<ipython-input-12-f77c020dc056>\u001b[0m in \u001b[0;36m<module>\u001b[0;34m\u001b[0m\n\u001b[1;32m     11\u001b[0m     \u001b[0;32mpass\u001b[0m\u001b[0;34m\u001b[0m\u001b[0;34m\u001b[0m\u001b[0m\n\u001b[1;32m     12\u001b[0m \u001b[0;34m\u001b[0m\u001b[0m\n\u001b[0;32m---> 13\u001b[0;31m \u001b[0;32mclass\u001b[0m \u001b[0mPlugin2\u001b[0m\u001b[0;34m(\u001b[0m\u001b[0mClosedPluginBase\u001b[0m\u001b[0;34m)\u001b[0m\u001b[0;34m:\u001b[0m \u001b[0;31m# Exception raised here\u001b[0m\u001b[0;34m\u001b[0m\u001b[0;34m\u001b[0m\u001b[0m\n\u001b[0m\u001b[1;32m     14\u001b[0m     \u001b[0;32mpass\u001b[0m\u001b[0;34m\u001b[0m\u001b[0;34m\u001b[0m\u001b[0m\n",
      "\u001b[0;32m<ipython-input-12-f77c020dc056>\u001b[0m in \u001b[0;36m__init_subclass__\u001b[0;34m(cls, **kwargs)\u001b[0m\n\u001b[1;32m      5\u001b[0m         \u001b[0msuper\u001b[0m\u001b[0;34m(\u001b[0m\u001b[0;34m)\u001b[0m\u001b[0;34m.\u001b[0m\u001b[0m__init_subclass__\u001b[0m\u001b[0;34m(\u001b[0m\u001b[0;34m**\u001b[0m\u001b[0mkwargs\u001b[0m\u001b[0;34m)\u001b[0m\u001b[0;34m\u001b[0m\u001b[0;34m\u001b[0m\u001b[0m\n\u001b[1;32m      6\u001b[0m         \u001b[0;32mif\u001b[0m \u001b[0mcls\u001b[0m\u001b[0;34m.\u001b[0m\u001b[0m__name__\u001b[0m \u001b[0;32mnot\u001b[0m \u001b[0;32min\u001b[0m \u001b[0;34m[\u001b[0m\u001b[0;34m\"Plugin1\"\u001b[0m\u001b[0;34m,\u001b[0m \u001b[0;34m\"Plugin4\"\u001b[0m\u001b[0;34m]\u001b[0m\u001b[0;34m:\u001b[0m\u001b[0;34m\u001b[0m\u001b[0;34m\u001b[0m\u001b[0m\n\u001b[0;32m----> 7\u001b[0;31m             \u001b[0;32mraise\u001b[0m \u001b[0mRuntimeError\u001b[0m\u001b[0;34m(\u001b[0m\u001b[0;34m\"Disallowed to create such an instance\"\u001b[0m\u001b[0;34m)\u001b[0m\u001b[0;34m\u001b[0m\u001b[0;34m\u001b[0m\u001b[0m\n\u001b[0m\u001b[1;32m      8\u001b[0m         \u001b[0mcls\u001b[0m\u001b[0;34m.\u001b[0m\u001b[0msubclasses\u001b[0m\u001b[0;34m.\u001b[0m\u001b[0mappend\u001b[0m\u001b[0;34m(\u001b[0m\u001b[0mcls\u001b[0m\u001b[0;34m)\u001b[0m\u001b[0;34m\u001b[0m\u001b[0;34m\u001b[0m\u001b[0m\n\u001b[1;32m      9\u001b[0m \u001b[0;34m\u001b[0m\u001b[0m\n",
      "\u001b[0;31mRuntimeError\u001b[0m: Disallowed to create such an instance"
     ]
    }
   ],
   "source": [
    "class ClosedPluginBase:\n",
    "    subclasses = []\n",
    "\n",
    "    def __init_subclass__(cls, **kwargs):\n",
    "        super().__init_subclass__(**kwargs)\n",
    "        if cls.__name__ not in [\"Plugin1\", \"Plugin4\"]:\n",
    "            raise RuntimeError(\"Disallowed to create such an instance\")\n",
    "        cls.subclasses.append(cls)\n",
    "\n",
    "class Plugin1(ClosedPluginBase):\n",
    "    pass\n",
    "\n",
    "class Plugin2(ClosedPluginBase): # Exception raised here\n",
    "    pass"
   ]
  },
  {
   "cell_type": "markdown",
   "metadata": {},
   "source": [
    "## Let's review news from Python 3.7\n",
    "\n",
    "### Postponed annotations checks\n",
    "Annotations can only used pre-defined types, but not types that are either currently defined, or defined later in the file.\n",
    "\n",
    "See https://www.python.org/dev/peps/pep-0563"
   ]
  },
  {
   "cell_type": "code",
   "execution_count": 13,
   "metadata": {},
   "outputs": [
    {
     "ename": "NameError",
     "evalue": "name 'Hello' is not defined",
     "output_type": "error",
     "traceback": [
      "\u001b[0;31m---------------------------------------------------------------------------\u001b[0m",
      "\u001b[0;31mNameError\u001b[0m                                 Traceback (most recent call last)",
      "\u001b[0;32m<ipython-input-13-2aa94c50ad82>\u001b[0m in \u001b[0;36m<module>\u001b[0;34m\u001b[0m\n\u001b[0;32m----> 1\u001b[0;31m \u001b[0;32mclass\u001b[0m \u001b[0mHello\u001b[0m\u001b[0;34m:\u001b[0m\u001b[0;34m\u001b[0m\u001b[0;34m\u001b[0m\u001b[0m\n\u001b[0m\u001b[1;32m      2\u001b[0m     \u001b[0;32mdef\u001b[0m \u001b[0m__init__\u001b[0m\u001b[0;34m(\u001b[0m\u001b[0mself\u001b[0m\u001b[0;34m,\u001b[0m \u001b[0mvalue\u001b[0m\u001b[0;34m:\u001b[0m \u001b[0mint\u001b[0m\u001b[0;34m)\u001b[0m\u001b[0;34m:\u001b[0m\u001b[0;34m\u001b[0m\u001b[0;34m\u001b[0m\u001b[0m\n\u001b[1;32m      3\u001b[0m         \u001b[0mself\u001b[0m\u001b[0;34m.\u001b[0m\u001b[0mvalue\u001b[0m \u001b[0;34m=\u001b[0m \u001b[0mvalue\u001b[0m\u001b[0;34m\u001b[0m\u001b[0;34m\u001b[0m\u001b[0m\n\u001b[1;32m      4\u001b[0m \u001b[0;34m\u001b[0m\u001b[0m\n\u001b[1;32m      5\u001b[0m     \u001b[0;32mdef\u001b[0m \u001b[0mmake\u001b[0m\u001b[0;34m(\u001b[0m\u001b[0mvalue\u001b[0m\u001b[0;34m:\u001b[0m \u001b[0mint\u001b[0m\u001b[0;34m)\u001b[0m \u001b[0;34m->\u001b[0m \u001b[0mHello\u001b[0m\u001b[0;34m:\u001b[0m\u001b[0;34m\u001b[0m\u001b[0;34m\u001b[0m\u001b[0m\n",
      "\u001b[0;32m<ipython-input-13-2aa94c50ad82>\u001b[0m in \u001b[0;36mHello\u001b[0;34m()\u001b[0m\n\u001b[1;32m      3\u001b[0m         \u001b[0mself\u001b[0m\u001b[0;34m.\u001b[0m\u001b[0mvalue\u001b[0m \u001b[0;34m=\u001b[0m \u001b[0mvalue\u001b[0m\u001b[0;34m\u001b[0m\u001b[0;34m\u001b[0m\u001b[0m\n\u001b[1;32m      4\u001b[0m \u001b[0;34m\u001b[0m\u001b[0m\n\u001b[0;32m----> 5\u001b[0;31m     \u001b[0;32mdef\u001b[0m \u001b[0mmake\u001b[0m\u001b[0;34m(\u001b[0m\u001b[0mvalue\u001b[0m\u001b[0;34m:\u001b[0m \u001b[0mint\u001b[0m\u001b[0;34m)\u001b[0m \u001b[0;34m->\u001b[0m \u001b[0mHello\u001b[0m\u001b[0;34m:\u001b[0m\u001b[0;34m\u001b[0m\u001b[0;34m\u001b[0m\u001b[0m\n\u001b[0m\u001b[1;32m      6\u001b[0m         \u001b[0;32mreturn\u001b[0m \u001b[0mHello\u001b[0m\u001b[0;34m(\u001b[0m\u001b[0mvalue\u001b[0m\u001b[0;34m)\u001b[0m\u001b[0;34m\u001b[0m\u001b[0;34m\u001b[0m\u001b[0m\n\u001b[1;32m      7\u001b[0m \u001b[0mprint\u001b[0m\u001b[0;34m(\u001b[0m\u001b[0mHello\u001b[0m\u001b[0;34m.\u001b[0m\u001b[0mmake\u001b[0m\u001b[0;34m(\u001b[0m\u001b[0;36m1\u001b[0m\u001b[0;34m)\u001b[0m\u001b[0;34m)\u001b[0m\u001b[0;34m\u001b[0m\u001b[0;34m\u001b[0m\u001b[0m\n",
      "\u001b[0;31mNameError\u001b[0m: name 'Hello' is not defined"
     ]
    }
   ],
   "source": [
    "class Hello:\n",
    "    def __init__(self, value: int):\n",
    "        self.value = value\n",
    "\n",
    "    def make(value: int) -> Hello:\n",
    "        return Hello(value)\n",
    "print(Hello.make(1))"
   ]
  },
  {
   "cell_type": "markdown",
   "metadata": {},
   "source": [
    "One way to fix this, is to use 'string' annotations:"
   ]
  },
  {
   "cell_type": "code",
   "execution_count": 14,
   "metadata": {},
   "outputs": [
    {
     "name": "stdout",
     "output_type": "stream",
     "text": [
      "<__main__.Hello object at 0x7f8edc5d7d90>\n"
     ]
    }
   ],
   "source": [
    "class Hello:\n",
    "    def __init__(self, value: int):\n",
    "        self.value = value\n",
    "\n",
    "    def make(value: int) -> \"Hello\":\n",
    "        return Hello(value)\n",
    "print(Hello.make(1))"
   ]
  },
  {
   "cell_type": "markdown",
   "metadata": {},
   "source": [
    "Now, and until 3.10, we can use a future import to fix this:"
   ]
  },
  {
   "cell_type": "code",
   "execution_count": 15,
   "metadata": {},
   "outputs": [
    {
     "name": "stdout",
     "output_type": "stream",
     "text": [
      "<__main__.Again object at 0x7f8edc5d7820>\n"
     ]
    }
   ],
   "source": [
    "from __future__ import annotations\n",
    "\n",
    "class Again:\n",
    "    def __init__(self, value: int):\n",
    "        self.value = value\n",
    "\n",
    "    def make(value: int) -> Again:\n",
    "        return Again(value)\n",
    "print(Again.make(1))"
   ]
  },
  {
   "cell_type": "markdown",
   "metadata": {},
   "source": [
    "### New breakpoint() function\n",
    "It's now possible to force being dropped in the debugger by using `breakpoint()` in the code.\n",
    "\n",
    "See https://www.python.org/dev/peps/pep-0553"
   ]
  },
  {
   "cell_type": "code",
   "execution_count": 16,
   "metadata": {},
   "outputs": [
    {
     "name": "stdout",
     "output_type": "stream",
     "text": [
      "--Return--\n",
      "None\n",
      "> \u001b[0;32m<ipython-input-16-63d2074c7f4a>\u001b[0m(3)\u001b[0;36m<module>\u001b[0;34m()\u001b[0m\n",
      "\u001b[0;32m      1 \u001b[0;31m\u001b[0ma\u001b[0m \u001b[0;34m=\u001b[0m \u001b[0;36m2\u001b[0m\u001b[0;34m\u001b[0m\u001b[0;34m\u001b[0m\u001b[0m\n",
      "\u001b[0m\u001b[0;32m      2 \u001b[0;31m\u001b[0ma\u001b[0m \u001b[0;34m+=\u001b[0m \u001b[0;36m3\u001b[0m\u001b[0;34m\u001b[0m\u001b[0;34m\u001b[0m\u001b[0m\n",
      "\u001b[0m\u001b[0;32m----> 3 \u001b[0;31m\u001b[0mbreakpoint\u001b[0m\u001b[0;34m(\u001b[0m\u001b[0;34m)\u001b[0m\u001b[0;34m\u001b[0m\u001b[0;34m\u001b[0m\u001b[0m\n",
      "\u001b[0m\u001b[0;32m      4 \u001b[0;31m\u001b[0mprint\u001b[0m\u001b[0;34m(\u001b[0m\u001b[0ma\u001b[0m\u001b[0;34m)\u001b[0m\u001b[0;34m\u001b[0m\u001b[0;34m\u001b[0m\u001b[0m\n",
      "\u001b[0m\n",
      "ipdb> print(a)\n",
      "5\n",
      "ipdb> quit\n"
     ]
    },
    {
     "ename": "BdbQuit",
     "evalue": "",
     "output_type": "error",
     "traceback": [
      "\u001b[0;31m---------------------------------------------------------------------------\u001b[0m",
      "\u001b[0;31mBdbQuit\u001b[0m                                   Traceback (most recent call last)",
      "\u001b[0;32m<ipython-input-16-63d2074c7f4a>\u001b[0m in \u001b[0;36m<module>\u001b[0;34m\u001b[0m\n\u001b[1;32m      1\u001b[0m \u001b[0ma\u001b[0m \u001b[0;34m=\u001b[0m \u001b[0;36m2\u001b[0m\u001b[0;34m\u001b[0m\u001b[0;34m\u001b[0m\u001b[0m\n\u001b[1;32m      2\u001b[0m \u001b[0ma\u001b[0m \u001b[0;34m+=\u001b[0m \u001b[0;36m3\u001b[0m\u001b[0;34m\u001b[0m\u001b[0;34m\u001b[0m\u001b[0m\n\u001b[0;32m----> 3\u001b[0;31m \u001b[0mbreakpoint\u001b[0m\u001b[0;34m(\u001b[0m\u001b[0;34m)\u001b[0m\u001b[0;34m\u001b[0m\u001b[0;34m\u001b[0m\u001b[0m\n\u001b[0m\u001b[1;32m      4\u001b[0m \u001b[0mprint\u001b[0m\u001b[0;34m(\u001b[0m\u001b[0ma\u001b[0m\u001b[0;34m)\u001b[0m\u001b[0;34m\u001b[0m\u001b[0;34m\u001b[0m\u001b[0m\n",
      "\u001b[0;32m/usr/lib/python3.8/bdb.py\u001b[0m in \u001b[0;36mtrace_dispatch\u001b[0;34m(self, frame, event, arg)\u001b[0m\n\u001b[1;32m     90\u001b[0m             \u001b[0;32mreturn\u001b[0m \u001b[0mself\u001b[0m\u001b[0;34m.\u001b[0m\u001b[0mdispatch_call\u001b[0m\u001b[0;34m(\u001b[0m\u001b[0mframe\u001b[0m\u001b[0;34m,\u001b[0m \u001b[0marg\u001b[0m\u001b[0;34m)\u001b[0m\u001b[0;34m\u001b[0m\u001b[0;34m\u001b[0m\u001b[0m\n\u001b[1;32m     91\u001b[0m         \u001b[0;32mif\u001b[0m \u001b[0mevent\u001b[0m \u001b[0;34m==\u001b[0m \u001b[0;34m'return'\u001b[0m\u001b[0;34m:\u001b[0m\u001b[0;34m\u001b[0m\u001b[0;34m\u001b[0m\u001b[0m\n\u001b[0;32m---> 92\u001b[0;31m             \u001b[0;32mreturn\u001b[0m \u001b[0mself\u001b[0m\u001b[0;34m.\u001b[0m\u001b[0mdispatch_return\u001b[0m\u001b[0;34m(\u001b[0m\u001b[0mframe\u001b[0m\u001b[0;34m,\u001b[0m \u001b[0marg\u001b[0m\u001b[0;34m)\u001b[0m\u001b[0;34m\u001b[0m\u001b[0;34m\u001b[0m\u001b[0m\n\u001b[0m\u001b[1;32m     93\u001b[0m         \u001b[0;32mif\u001b[0m \u001b[0mevent\u001b[0m \u001b[0;34m==\u001b[0m \u001b[0;34m'exception'\u001b[0m\u001b[0;34m:\u001b[0m\u001b[0;34m\u001b[0m\u001b[0;34m\u001b[0m\u001b[0m\n\u001b[1;32m     94\u001b[0m             \u001b[0;32mreturn\u001b[0m \u001b[0mself\u001b[0m\u001b[0;34m.\u001b[0m\u001b[0mdispatch_exception\u001b[0m\u001b[0;34m(\u001b[0m\u001b[0mframe\u001b[0m\u001b[0;34m,\u001b[0m \u001b[0marg\u001b[0m\u001b[0;34m)\u001b[0m\u001b[0;34m\u001b[0m\u001b[0;34m\u001b[0m\u001b[0m\n",
      "\u001b[0;32m/usr/lib/python3.8/bdb.py\u001b[0m in \u001b[0;36mdispatch_return\u001b[0;34m(self, frame, arg)\u001b[0m\n\u001b[1;32m    152\u001b[0m             \u001b[0;32mfinally\u001b[0m\u001b[0;34m:\u001b[0m\u001b[0;34m\u001b[0m\u001b[0;34m\u001b[0m\u001b[0m\n\u001b[1;32m    153\u001b[0m                 \u001b[0mself\u001b[0m\u001b[0;34m.\u001b[0m\u001b[0mframe_returning\u001b[0m \u001b[0;34m=\u001b[0m \u001b[0;32mNone\u001b[0m\u001b[0;34m\u001b[0m\u001b[0;34m\u001b[0m\u001b[0m\n\u001b[0;32m--> 154\u001b[0;31m             \u001b[0;32mif\u001b[0m \u001b[0mself\u001b[0m\u001b[0;34m.\u001b[0m\u001b[0mquitting\u001b[0m\u001b[0;34m:\u001b[0m \u001b[0;32mraise\u001b[0m \u001b[0mBdbQuit\u001b[0m\u001b[0;34m\u001b[0m\u001b[0;34m\u001b[0m\u001b[0m\n\u001b[0m\u001b[1;32m    155\u001b[0m             \u001b[0;31m# The user issued a 'next' or 'until' command.\u001b[0m\u001b[0;34m\u001b[0m\u001b[0;34m\u001b[0m\u001b[0;34m\u001b[0m\u001b[0m\n\u001b[1;32m    156\u001b[0m             \u001b[0;32mif\u001b[0m \u001b[0mself\u001b[0m\u001b[0;34m.\u001b[0m\u001b[0mstopframe\u001b[0m \u001b[0;32mis\u001b[0m \u001b[0mframe\u001b[0m \u001b[0;32mand\u001b[0m \u001b[0mself\u001b[0m\u001b[0;34m.\u001b[0m\u001b[0mstoplineno\u001b[0m \u001b[0;34m!=\u001b[0m \u001b[0;34m-\u001b[0m\u001b[0;36m1\u001b[0m\u001b[0;34m:\u001b[0m\u001b[0;34m\u001b[0m\u001b[0;34m\u001b[0m\u001b[0m\n",
      "\u001b[0;31mBdbQuit\u001b[0m: "
     ]
    }
   ],
   "source": [
    "a = 2\n",
    "a += 3\n",
    "breakpoint()\n",
    "print(a)"
   ]
  },
  {
   "cell_type": "markdown",
   "metadata": {},
   "source": [
    "It's an alternative to running your script with `python3 -m pdb myscript.py`.\n",
    "See https://docs.python.org/3/library/pdb.html for more info"
   ]
  },
  {
   "cell_type": "markdown",
   "metadata": {},
   "source": [
    "### Timing can now use nanoseconds resolution\n",
    "See https://www.python.org/dev/peps/pep-0564."
   ]
  },
  {
   "cell_type": "code",
   "execution_count": 17,
   "metadata": {},
   "outputs": [
    {
     "name": "stdout",
     "output_type": "stream",
     "text": [
      "hello\n",
      "Duration: 185558 ns\n"
     ]
    }
   ],
   "source": [
    "import time\n",
    "start = time.time_ns()\n",
    "print(\"hello\")\n",
    "end = time.time_ns()\n",
    "print(f\"Duration: {end - start} ns\")"
   ]
  },
  {
   "cell_type": "markdown",
   "metadata": {},
   "source": [
    "### ContextVars allow defining vars with different values for different contexts\n",
    "Allows each asyncio.Task to store their own context when defined, and avoid changing variables used by other tasks.\n",
    "\n",
    "See https://www.python.org/dev/peps/pep-0567/."
   ]
  },
  {
   "cell_type": "code",
   "execution_count": 18,
   "metadata": {},
   "outputs": [
    {
     "name": "stdout",
     "output_type": "stream",
     "text": [
      "True\n",
      "True\n",
      "True\n",
      "True\n"
     ]
    }
   ],
   "source": [
    "from contextvars import ContextVar, copy_context\n",
    "import contextvars\n",
    "\n",
    "variable1 = ContextVar('variable1')\n",
    "variable1.set('spam')\n",
    "\n",
    "def main():\n",
    "    variable1.set('ham')\n",
    "\n",
    "ctx = copy_context() # deep copy of the current context (the default one)\n",
    "\n",
    "# Any changes that the 'main' function makes to 'var'\n",
    "# will be contained in 'ctx'.\n",
    "ctx.run(main)\n",
    "\n",
    "# The 'main()' function was run in the 'ctx' context,\n",
    "# so changes to 'var' are contained in it:\n",
    "print(ctx[variable1] == 'ham')\n",
    "\n",
    "# However, outside of 'ctx', 'var' is still set to 'spam':\n",
    "print(variable1.get() == 'spam')\n",
    "\n",
    "# If we run main directly, it is executed in the default context, modifying the current context's var\n",
    "main()\n",
    "print(variable1.get() == 'ham')\n",
    "\n",
    "# We can define a new context from here:\n",
    "main_context = contextvars.Context() \n",
    "print((variable1 in main_context) is False)"
   ]
  },
  {
   "cell_type": "markdown",
   "metadata": {},
   "source": [
    "### Dataclasses\n",
    "Allows to make writing classes with fewer lines of code (and auto-generate some methods) aka like Lombok in Java.\n",
    "\n",
    "It allows to avoid to unit-test `__eq__` and `__repr__` and `__hash__`.\n",
    "\n",
    "Makes unit-testing easier (thanks to `__eq__`).\n",
    "\n",
    "See https://www.python.org/dev/peps/pep-0557."
   ]
  },
  {
   "cell_type": "code",
   "execution_count": 19,
   "metadata": {},
   "outputs": [
    {
     "name": "stdout",
     "output_type": "stream",
     "text": [
      "PointLegacy(x=1.5, y=2.5, z=0.0)\n"
     ]
    }
   ],
   "source": [
    "class PointLegacy:\n",
    "    def __init__(self, x: float, y:float, z:float = 0.0):\n",
    "        self.x = x\n",
    "        self.y = y\n",
    "        self.z = z\n",
    "    \n",
    "    def __eq__(self, o: other):\n",
    "        return (self.x == o.x) and (self.y == o.y) and (self.z == o.z)\n",
    "    \n",
    "    def __repr__(self):\n",
    "        return f\"PointLegacy(x={self.x}, y={self.y}, z={self.z})\"\n",
    "    \n",
    "    # def __hash__ too\n",
    "\n",
    "p1 = PointLegacy(1.5, 2.5)\n",
    "print(p1)"
   ]
  },
  {
   "cell_type": "code",
   "execution_count": 20,
   "metadata": {},
   "outputs": [
    {
     "name": "stdout",
     "output_type": "stream",
     "text": [
      "Point(x=1.5, y=2.5, z=0.0)\n"
     ]
    }
   ],
   "source": [
    "from dataclasses import dataclass\n",
    "\n",
    "@dataclass\n",
    "class Point:\n",
    "    x: float\n",
    "    y: float\n",
    "    z: float = 0.0\n",
    "\n",
    "p = Point(1.5, 2.5)\n",
    "print(p)"
   ]
  },
  {
   "cell_type": "markdown",
   "metadata": {},
   "source": [
    "What happens with composite classes?"
   ]
  },
  {
   "cell_type": "code",
   "execution_count": 21,
   "metadata": {},
   "outputs": [
    {
     "name": "stdout",
     "output_type": "stream",
     "text": [
      "Triangle(a=Point(x=1, y=2), b=Point(x=2, y=3), c=Point(x=3, y=4), color=<__main__.Color object at 0x7f8edc48fa00>)\n",
      "False\n"
     ]
    }
   ],
   "source": [
    "from dataclasses import dataclass\n",
    "\n",
    "class Color:\n",
    "    def __init__(self, value: str):\n",
    "        self.value = value\n",
    "\n",
    "@dataclass\n",
    "class Point:\n",
    "    x: float\n",
    "    y: float\n",
    "        \n",
    "@dataclass\n",
    "class Triangle:\n",
    "    a: Point\n",
    "    b: Point\n",
    "    c: Point\n",
    "    color: Color\n",
    "        \n",
    "c1 = Triangle(Point(1, 2), Point(2, 3), Point(3, 4), Color(\"blue\"))\n",
    "print(c1)\n",
    "c2 = Triangle(Point(1, 2), Point(2, 3), Point(3, 4), Color(\"blue\"))\n",
    "print(c1 == c2) # because the color inside are different instances, and don't support __eq__"
   ]
  },
  {
   "cell_type": "markdown",
   "metadata": {},
   "source": [
    "## Let's review news from Python 3.8\n",
    "### \"walrus\" operator\n",
    "Allows to avoid to test and assign twice.\n",
    "See https://www.python.org/dev/peps/pep-0572."
   ]
  },
  {
   "cell_type": "code",
   "execution_count": 22,
   "metadata": {},
   "outputs": [
    {
     "name": "stdout",
     "output_type": "stream",
     "text": [
      "['1', '2', '3']\n",
      "3\n"
     ]
    }
   ],
   "source": [
    "s = \"1,2,3\"\n",
    "if len(s.split(',')) > 2:\n",
    "    elements = s.split(',')\n",
    "    print(elements)\n",
    "    print(elements[2])"
   ]
  },
  {
   "cell_type": "code",
   "execution_count": 23,
   "metadata": {},
   "outputs": [
    {
     "name": "stdout",
     "output_type": "stream",
     "text": [
      "['1', '2', '3']\n",
      "3\n"
     ]
    }
   ],
   "source": [
    "s = \"1,2,3\"\n",
    "if (elements := s.split(',')) and len(elements) > 2:\n",
    "    print(elements)\n",
    "    print(elements[2])"
   ]
  },
  {
   "cell_type": "markdown",
   "metadata": {},
   "source": [
    "### Positional-only paramaters\n",
    "\n",
    "Using `/` allows to disable clients from naming functions parameters.\n",
    "\n",
    "Can be useful for functions of 1 parameter, or when parameters names are useless (ex: `div(a,b)` or `len(obj)`).\n",
    "It also allows hiding the name to clients, to avoid breaking clients when parameters are renamed.\n",
    "\n",
    "Beware, can be dangerous.\n",
    "\n",
    "See https://www.python.org/dev/peps/pep-0570."
   ]
  },
  {
   "cell_type": "code",
   "execution_count": 24,
   "metadata": {},
   "outputs": [
    {
     "name": "stdout",
     "output_type": "stream",
     "text": [
      "hello\n",
      "Debug: again\n"
     ]
    },
    {
     "ename": "TypeError",
     "evalue": "show() got some positional-only arguments passed as keyword arguments: 'a'",
     "output_type": "error",
     "traceback": [
      "\u001b[0;31m---------------------------------------------------------------------------\u001b[0m",
      "\u001b[0;31mTypeError\u001b[0m                                 Traceback (most recent call last)",
      "\u001b[0;32m<ipython-input-24-b00757282c1d>\u001b[0m in \u001b[0;36m<module>\u001b[0;34m\u001b[0m\n\u001b[1;32m      6\u001b[0m \u001b[0mshow\u001b[0m\u001b[0;34m(\u001b[0m\u001b[0;34m\"hello\"\u001b[0m\u001b[0;34m,\u001b[0m \u001b[0;32mFalse\u001b[0m\u001b[0;34m)\u001b[0m\u001b[0;34m\u001b[0m\u001b[0;34m\u001b[0m\u001b[0m\n\u001b[1;32m      7\u001b[0m \u001b[0mshow\u001b[0m\u001b[0;34m(\u001b[0m\u001b[0;34m\"again\"\u001b[0m\u001b[0;34m,\u001b[0m \u001b[0mdebug\u001b[0m\u001b[0;34m=\u001b[0m\u001b[0;32mTrue\u001b[0m\u001b[0;34m)\u001b[0m\u001b[0;34m\u001b[0m\u001b[0;34m\u001b[0m\u001b[0m\n\u001b[0;32m----> 8\u001b[0;31m \u001b[0mshow\u001b[0m\u001b[0;34m(\u001b[0m\u001b[0ma\u001b[0m\u001b[0;34m=\u001b[0m\u001b[0;34m\"ciao\"\u001b[0m\u001b[0;34m,\u001b[0m \u001b[0mdebug\u001b[0m\u001b[0;34m=\u001b[0m\u001b[0;32mFalse\u001b[0m\u001b[0;34m)\u001b[0m\u001b[0;34m\u001b[0m\u001b[0;34m\u001b[0m\u001b[0m\n\u001b[0m",
      "\u001b[0;31mTypeError\u001b[0m: show() got some positional-only arguments passed as keyword arguments: 'a'"
     ]
    }
   ],
   "source": [
    "def show(a: string, /, debug: bool):\n",
    "    if debug:\n",
    "        print(f\"Debug: {a}\")\n",
    "    else:\n",
    "        print(a)\n",
    "show(\"hello\", False)\n",
    "show(\"again\", debug=True)\n",
    "show(a=\"ciao\", debug=False)"
   ]
  },
  {
   "cell_type": "markdown",
   "metadata": {},
   "source": [
    "## Let's review news from Python 3.9¶\n",
    "\n",
    "> Note:\n",
    ">\n",
    "> How to run python 3.9 in jupyter via docker inside python:\n",
    ">\n",
    "> Ex in bash: docker run -- python:3.9 python -c 'd1 = {\"spam\": 1} ; d2 = {3665: 2} ; d1 |= d2 ; print(d1)'\n",
    ">\n",
    "> Equivalent in python:\n",
    ">\n",
    "> import docker\n",
    ">\n",
    "> client = docker.from_env()\n",
    ">\n",
    "> client.containers.run(\"python:3.9\", \"python -c 'd1 = {\\\"spam\\\": 1} ; d2 = {3665: 2} ; d1 |= d2 ; print(d1)'\")\n",
    "\n",
    "\n",
    "### New dictionary operators\n",
    "\n",
    "Concatenate (`|`) and append (`|=`) (equivalent to `+` and `+=` for strings).\n",
    "\n",
    "See https://www.python.org/dev/peps/pep-0584."
   ]
  },
  {
   "cell_type": "code",
   "execution_count": 25,
   "metadata": {},
   "outputs": [
    {
     "name": "stdout",
     "output_type": "stream",
     "text": [
      "{'key1': 'value1', 'key2': 'value2', 'key3': 'value3'}\n",
      "False\n"
     ]
    }
   ],
   "source": [
    "d1 = {\"key1\": \"value1\", \"key2\": \"value2\"}\n",
    "d2 = {\"key3\": \"value3\", \"key3\": \"value3\"}\n",
    "\n",
    "d12 = {**d1, **d2}\n",
    "print(d12)\n",
    "# d12 = d1 | d2\n",
    "\n",
    "# d1 |= d2\n",
    "print(d1 == d12) # True"
   ]
  },
  {
   "cell_type": "markdown",
   "metadata": {},
   "source": [
    "### standard types allow generics without using typing module\n",
    "\n",
    "Allows saying `dict[str, int]` instead of `Dict[str, int]` (same for `List`, etc.).\n",
    "\n",
    "See https://www.python.org/dev/peps/pep-0585/."
   ]
  },
  {
   "cell_type": "code",
   "execution_count": 26,
   "metadata": {},
   "outputs": [],
   "source": [
    "from typing import Dict\n",
    "d: Dict[str, int] = { \"hello\": 5}"
   ]
  },
  {
   "cell_type": "code",
   "execution_count": 27,
   "metadata": {},
   "outputs": [],
   "source": [
    "from __future__ import annotations # only useful for 3.7 and 3.8\n",
    "d2: dict[str, int] = { \"again\": 3 }"
   ]
  },
  {
   "cell_type": "markdown",
   "metadata": {},
   "source": [
    "### removeprefix & removesuffix for strings\n",
    "\n",
    "See https://www.python.org/dev/peps/pep-0616/."
   ]
  },
  {
   "cell_type": "code",
   "execution_count": 28,
   "metadata": {},
   "outputs": [
    {
     "name": "stdout",
     "output_type": "stream",
     "text": [
      "hello_there\n",
      "hello_there\n"
     ]
    }
   ],
   "source": [
    "test_func_name = \"test_hello_there\"\n",
    "if test_func_name.startswith(\"test_\"):\n",
    "    print(test_func_name[5:])\n",
    "else:\n",
    "    print(test_func_name)\n",
    "    \n",
    "# OR, but everywhere in the string:\n",
    "\n",
    "print(test_func_name.replace(\"test_\", \"\"))"
   ]
  },
  {
   "cell_type": "code",
   "execution_count": 29,
   "metadata": {},
   "outputs": [
    {
     "ename": "AttributeError",
     "evalue": "'str' object has no attribute 'removeprefix'",
     "output_type": "error",
     "traceback": [
      "\u001b[0;31m---------------------------------------------------------------------------\u001b[0m",
      "\u001b[0;31mAttributeError\u001b[0m                            Traceback (most recent call last)",
      "\u001b[0;32m<ipython-input-29-f19ef0bf278a>\u001b[0m in \u001b[0;36m<module>\u001b[0;34m\u001b[0m\n\u001b[1;32m      1\u001b[0m \u001b[0mtest_func_name\u001b[0m \u001b[0;34m=\u001b[0m \u001b[0;34m\"test_hello_there\"\u001b[0m\u001b[0;34m\u001b[0m\u001b[0;34m\u001b[0m\u001b[0m\n\u001b[0;32m----> 2\u001b[0;31m \u001b[0mprint\u001b[0m\u001b[0;34m(\u001b[0m\u001b[0mtest_func_name\u001b[0m\u001b[0;34m.\u001b[0m\u001b[0mremoveprefix\u001b[0m\u001b[0;34m(\u001b[0m\u001b[0;34m\"test_\"\u001b[0m\u001b[0;34m)\u001b[0m\u001b[0;34m)\u001b[0m\u001b[0;34m\u001b[0m\u001b[0;34m\u001b[0m\u001b[0m\n\u001b[0m",
      "\u001b[0;31mAttributeError\u001b[0m: 'str' object has no attribute 'removeprefix'"
     ]
    }
   ],
   "source": [
    "test_func_name = \"test_hello_there\"\n",
    "print(test_func_name.removeprefix(\"test_\"))"
   ]
  },
  {
   "cell_type": "markdown",
   "metadata": {},
   "source": [
    "### Being able to use any metadata for annotated types\n",
    "\n",
    "Being able to use `Annotated` to provide more annotation to a specific type.\n",
    "\n",
    "See https://www.python.org/dev/peps/pep-0593/."
   ]
  },
  {
   "cell_type": "code",
   "execution_count": null,
   "metadata": {},
   "outputs": [],
   "source": [
    "from typing import TypeVar, Annotated, List, Tuple, MaxLen, ValueRange\n",
    "T = TypeVar('T')\n",
    "Vec = Annotated[List[Tuple[T, T]], MaxLen(10)]\n",
    "V = Vec[int]\n",
    "\n",
    "V == Annotated[List[Tuple[int, int]], MaxLen(10)]\n",
    "\n",
    "AGE = Annotated[int, ValueRange(0, 150)]\n",
    "\n",
    "age: AGE = 300 # not enforced by python, as usual"
   ]
  }
 ],
 "metadata": {
  "kernelspec": {
   "display_name": "Python 3",
   "language": "python",
   "name": "python3"
  },
  "language_info": {
   "codemirror_mode": {
    "name": "ipython",
    "version": 3
   },
   "file_extension": ".py",
   "mimetype": "text/x-python",
   "name": "python",
   "nbconvert_exporter": "python",
   "pygments_lexer": "ipython3",
   "version": "3.8.6"
  }
 },
 "nbformat": 4,
 "nbformat_minor": 4
}
